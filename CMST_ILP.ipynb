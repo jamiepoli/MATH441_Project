{
 "cells": [
  {
   "cell_type": "code",
   "execution_count": 1,
   "metadata": {
    "scrolled": true
   },
   "outputs": [
    {
     "name": "stdout",
     "output_type": "stream",
     "text": [
      "Requirement already satisfied: pulp in /opt/anaconda3/lib/python3.7/site-packages (2.4)\r\n",
      "Requirement already satisfied: amply>=0.1.2 in /opt/anaconda3/lib/python3.7/site-packages (from pulp) (0.1.4)\r\n",
      "Requirement already satisfied: pyparsing in /opt/anaconda3/lib/python3.7/site-packages (from amply>=0.1.2->pulp) (2.4.6)\r\n",
      "Requirement already satisfied: docutils>=0.3 in /opt/anaconda3/lib/python3.7/site-packages (from amply>=0.1.2->pulp) (0.16)\r\n"
     ]
    }
   ],
   "source": [
    "# Install all required libraries\n",
    "\n",
    "import sys\n",
    "!{sys.executable} -m pip install pulp \n",
    "\n",
    "import pulp\n",
    "# Import PuLP modeler functions\n",
    "from pulp import * \n",
    "\n",
    "import numpy as np\n",
    "import math as math\n",
    "import networkx as nx"
   ]
  },
  {
   "cell_type": "markdown",
   "metadata": {},
   "source": [
    "## The Decision Variables and Objective Function "
   ]
  },
  {
   "cell_type": "code",
   "execution_count": 2,
   "metadata": {},
   "outputs": [],
   "source": [
    "problem = LpProblem(\"CMST_Problem\",LpMinimize)"
   ]
  },
  {
   "cell_type": "code",
   "execution_count": 3,
   "metadata": {},
   "outputs": [],
   "source": [
    "\n",
    "\n",
    "# Graph of edges. The edges are the decision variables\n",
    "E_weights = np.array([\n",
    " [0,7,9,14,0,15,5,1,0], #root\n",
    " [0,0,16,0,15,0,0,0,0], \n",
    " [0,16,0,0,0,3,0,0,0],\n",
    " [0,0,0,0,0,0,2,11,6],\n",
    " [0,15,0,0,0,0,0,10,4],\n",
    " [0,3,0,0,0,0,8,0,0],\n",
    " [0,0,0,2,0,8,0,0,0],\n",
    " [0,0,0,11,10,0,0,0,0],\n",
    " [0,0,0,6,4,0,0,0,0]\n",
    "])\n",
    "\n",
    "# Capacity constraint\n",
    "K = 3\n",
    "\n",
    "V = np.array([\n",
    " [0,1,1,1,0,1,1,1,0], #root\n",
    " [0,0,1,0,1,0,0,0,0], #a\n",
    " [0,1,0,0,0,1,0,0,0], #b\n",
    " [0,0,0,0,0,0,1,1,1], #c\n",
    " [0,1,0,0,0,0,0,1,1], #d\n",
    " [0,1,0,0,0,0,1,0,0], #e\n",
    " [0,0,0,1,0,1,0,0,0], #f\n",
    " [0,0,0,1,1,0,0,0,0], #g\n",
    " [0,0,0,1,1,0,0,0,0]  #h\n",
    "])"
   ]
  },
  {
   "cell_type": "code",
   "execution_count": 4,
   "metadata": {},
   "outputs": [
    {
     "name": "stdout",
     "output_type": "stream",
     "text": [
      "CMST_Problem:\n",
      "MINIMIZE\n",
      "7*Edge_0_1 + 9*Edge_0_2 + 14*Edge_0_3 + 15*Edge_0_5 + 5*Edge_0_6 + 1*Edge_0_7 + 16*Edge_1_2 + 15*Edge_1_5 + 3*Edge_2_6 + 2*Edge_3_6 + 11*Edge_3_7 + 6*Edge_3_8 + 10*Edge_4_7 + 4*Edge_4_8 + 8*Edge_5_6 + 0\n",
      "VARIABLES\n",
      "Edge_0_1 Continuous\n",
      "Edge_0_2 Continuous\n",
      "Edge_0_3 Continuous\n",
      "Edge_0_5 Continuous\n",
      "Edge_0_6 Continuous\n",
      "Edge_0_7 Continuous\n",
      "Edge_1_2 Continuous\n",
      "Edge_1_5 Continuous\n",
      "Edge_2_6 Continuous\n",
      "Edge_3_6 Continuous\n",
      "Edge_3_7 Continuous\n",
      "Edge_3_8 Continuous\n",
      "Edge_4_7 Continuous\n",
      "Edge_4_8 Continuous\n",
      "Edge_5_6 Continuous\n",
      "\n"
     ]
    }
   ],
   "source": [
    "# Given sets V, V+, d, and given adjacency matrix E and capacity constraint K\n",
    "\n",
    "# For the second constraint, we let d be a list of integers of size |V+|, with the entries being the demands of each node\n",
    "# d = [4,7,2,3,4,9,...]\n",
    "\n",
    "# d = the node weights\n",
    "d = []\n",
    "for i in range(0, len(n)): d.append(1)\n",
    "\n",
    "\n",
    "# For the first constraint, we want the sum of all elements in each column of E, except column 0, to be equal to 1\n",
    "# i.e. the sum of all elements in a column j must equal 1 for all j in V+\n",
    "#numOfCols = np.size(E,1)\n",
    "\n",
    "\n",
    "\n",
    "# Max number of subtrees in the graph\n",
    "rootEdges = E[0,]\n",
    "numSubtrees = 0\n",
    "\n",
    "for n in rootEdges:\n",
    "    if n != 0:\n",
    "        numSubtrees += 1\n",
    "\n",
    "# Min. # of subtrees needed to satisfy the capacity constraint\n",
    "minNumSubtrees = math.ceil(sum(d)/K)\n",
    "print(minNumSubtrees)\n",
    "\n",
    "# The second constraint would be the number of subtrees >= the minimium number of subtrees necessary for K\n",
    "problem += numSubtrees >= minNumSubtrees\n",
    "\n",
    "\n",
    "print(problem)\n"
   ]
  },
  {
   "cell_type": "markdown",
   "metadata": {},
   "source": [
    "## The Constraints"
   ]
  }
 ],
 "metadata": {
  "kernelspec": {
   "display_name": "Python 3",
   "language": "python",
   "name": "python3"
  },
  "language_info": {
   "codemirror_mode": {
    "name": "ipython",
    "version": 3
   },
   "file_extension": ".py",
   "mimetype": "text/x-python",
   "name": "python",
   "nbconvert_exporter": "python",
   "pygments_lexer": "ipython3",
   "version": "3.7.6"
  }
 },
 "nbformat": 4,
 "nbformat_minor": 4
}
