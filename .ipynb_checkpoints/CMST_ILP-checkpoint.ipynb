{
 "cells": [
  {
   "cell_type": "code",
   "execution_count": 1,
   "metadata": {
    "scrolled": true
   },
   "outputs": [
    {
     "name": "stdout",
     "output_type": "stream",
     "text": [
      "Requirement already satisfied: pulp in /opt/anaconda3/lib/python3.7/site-packages (2.4)\r\n",
      "Requirement already satisfied: amply>=0.1.2 in /opt/anaconda3/lib/python3.7/site-packages (from pulp) (0.1.4)\r\n",
      "Requirement already satisfied: pyparsing in /opt/anaconda3/lib/python3.7/site-packages (from amply>=0.1.2->pulp) (2.4.6)\r\n",
      "Requirement already satisfied: docutils>=0.3 in /opt/anaconda3/lib/python3.7/site-packages (from amply>=0.1.2->pulp) (0.16)\r\n"
     ]
    }
   ],
   "source": [
    "# Install all required libraries\n",
    "\n",
    "import sys\n",
    "!{sys.executable} -m pip install pulp \n",
    "\n",
    "import pulp\n",
    "# Import PuLP modeler functions\n",
    "from pulp import * \n",
    "\n",
    "import numpy as np\n",
    "import math as math\n",
    "import networkx as nx\n",
    "import matplotlib.pyplot as plt"
   ]
  },
  {
   "cell_type": "markdown",
   "metadata": {},
   "source": [
    "## The Decision Variables and Objective Function "
   ]
  },
  {
   "cell_type": "code",
   "execution_count": 2,
   "metadata": {},
   "outputs": [],
   "source": [
    "problem = LpProblem(\"CMST_Problem\",LpMinimize)"
   ]
  },
  {
   "cell_type": "code",
   "execution_count": 3,
   "metadata": {},
   "outputs": [
    {
     "name": "stdout",
     "output_type": "stream",
     "text": [
      "{'RA': edge_RA, 'RB': edge_RB, 'RC': edge_RC, 'RE': edge_RE, 'RF': edge_RF, 'RG': edge_RG, 'AB': edge_AB, 'AD': edge_AD, 'BA': edge_BA, 'BE': edge_BE, 'CF': edge_CF, 'CG': edge_CG, 'CH': edge_CH, 'DA': edge_DA, 'DG': edge_DG, 'DH': edge_DH, 'EB': edge_EB, 'EF': edge_EF, 'FC': edge_FC, 'FE': edge_FE, 'GC': edge_GC, 'GD': edge_GD, 'HC': edge_HC}\n"
     ]
    }
   ],
   "source": [
    "# Graph of edges. The edges are the decision variables\n",
    "edges_weights = np.array([\n",
    " [0,7,9,14,0,15,5,1,0], #root\n",
    " [0,0,16,0,15,0,0,0,0], \n",
    " [0,16,0,0,0,3,0,0,0],\n",
    " [0,0,0,0,0,0,2,11,6],\n",
    " [0,15,0,0,0,0,0,10,4],\n",
    " [0,0,3,0,0,0,8,0,0],\n",
    " [0,0,0,2,0,8,0,0,0],\n",
    " [0,0,0,11,10,0,0,0,0],\n",
    " [0,0,0,6,0,0,0,0,0]\n",
    "])\n",
    "\n",
    "nodes = ['R', 'A', 'B', 'C', 'D', 'E', 'F', 'G', 'H']\n",
    "edges = ['RA', 'RB', 'RC', 'RE', 'RF', 'RG', 'AB', 'AD', 'BA', 'BE', 'CF', 'CG', 'CH', 'DA', 'DG', 'DH', 'EB', 'EF', 'FC', 'FE', 'GC', 'GD','HC']\n",
    "numOfRows = np.size(edges_weights, 0)\n",
    "numOfCols = np.size(edges_weights, 1)\n",
    "\n",
    "# For every entry in edges_weights is a decision variable\n",
    "temp = []\n",
    "for i in range(0,numOfRows):\n",
    "    for j in range(0,numOfCols):\n",
    "        if edges_weights[i][j] != 0:\n",
    "            temp.append(edges_weights[i][j])\n",
    "\n",
    "edge_costs = {}\n",
    "for i in range(0, len(edges)):\n",
    "    edge_costs[edges[i]] = temp[i]\n",
    "\n",
    "edge_vars = LpVariable.dicts(\"edge\",edges,lowBound=0)\n",
    "print(edge_vars)\n",
    "\n",
    "# Capacity constraint\n",
    "K = 3\n",
    "\n",
    "## OBJECTIVE FUNCTION\n",
    "problem += lpSum([edge_vars[i]*edge_costs[i] for i in edge_costs])\n"
   ]
  },
  {
   "cell_type": "code",
   "execution_count": 4,
   "metadata": {},
   "outputs": [
    {
     "name": "stdout",
     "output_type": "stream",
     "text": [
      "CMST_Problem:\n",
      "MINIMIZE\n",
      "16*edge_AB + 15*edge_AD + 16*edge_BA + 3*edge_BE + 2*edge_CF + 11*edge_CG + 6*edge_CH + 15*edge_DA + 10*edge_DG + 4*edge_DH + 3*edge_EB + 8*edge_EF + 2*edge_FC + 8*edge_FE + 11*edge_GC + 10*edge_GD + 6*edge_HC + 7*edge_RA + 9*edge_RB + 14*edge_RC + 15*edge_RE + 5*edge_RF + 1*edge_RG + 0\n",
      "SUBJECT TO\n",
      "_C1: edge_BA + edge_DA + edge_RA = 1\n",
      "\n",
      "_C2: edge_AB + edge_EB + edge_RB = 1\n",
      "\n",
      "_C3: edge_FC + edge_GC + edge_HC + edge_RC = 1\n",
      "\n",
      "_C4: edge_AD + edge_GD = 1\n",
      "\n",
      "_C5: edge_BE + edge_FE + edge_RE = 1\n",
      "\n",
      "_C6: edge_CF + edge_EF + edge_RF = 1\n",
      "\n",
      "_C7: edge_CG + edge_DG + edge_RG = 1\n",
      "\n",
      "_C8: edge_CH + edge_DH = 1\n",
      "\n",
      "_C9: edge_AB + edge_BA <= 1\n",
      "\n",
      "_C10: edge_AD + edge_DA <= 1\n",
      "\n",
      "_C11: edge_AB + edge_BA <= 1\n",
      "\n",
      "_C12: edge_BE + edge_EB <= 1\n",
      "\n",
      "_C13: edge_CF + edge_FC <= 1\n",
      "\n",
      "_C14: edge_CG + edge_GC <= 1\n",
      "\n",
      "_C15: edge_CH + edge_HC <= 1\n",
      "\n",
      "_C16: edge_AD + edge_DA <= 1\n",
      "\n",
      "_C17: edge_DG + edge_GD <= 1\n",
      "\n",
      "_C18: edge_BE + edge_EB <= 1\n",
      "\n",
      "_C19: edge_EF + edge_FE <= 1\n",
      "\n",
      "_C20: edge_CF + edge_FC <= 1\n",
      "\n",
      "_C21: edge_EF + edge_FE <= 1\n",
      "\n",
      "_C22: edge_CG + edge_GC <= 1\n",
      "\n",
      "_C23: edge_DG + edge_GD <= 1\n",
      "\n",
      "_C24: edge_CH + edge_HC <= 1\n",
      "\n",
      "Subtree_Constraint: edge_RA + edge_RB + edge_RC + edge_RE + edge_RF + edge_RG\n",
      " >= 4\n",
      "\n",
      "VARIABLES\n",
      "edge_AB Continuous\n",
      "edge_AD Continuous\n",
      "edge_BA Continuous\n",
      "edge_BE Continuous\n",
      "edge_CF Continuous\n",
      "edge_CG Continuous\n",
      "edge_CH Continuous\n",
      "edge_DA Continuous\n",
      "edge_DG Continuous\n",
      "edge_DH Continuous\n",
      "edge_EB Continuous\n",
      "edge_EF Continuous\n",
      "edge_FC Continuous\n",
      "edge_FE Continuous\n",
      "edge_GC Continuous\n",
      "edge_GD Continuous\n",
      "edge_HC Continuous\n",
      "edge_RA Continuous\n",
      "edge_RB Continuous\n",
      "edge_RC Continuous\n",
      "edge_RE Continuous\n",
      "edge_RF Continuous\n",
      "edge_RG Continuous\n",
      "\n"
     ]
    }
   ],
   "source": [
    "# For the first constraint, we want the sum of all elements in each column of E, except column 0, to be equal to 1\n",
    "# i.e. the sum of all elements in a column j must equal 1 for all j in V+\n",
    "\n",
    "gates = {}\n",
    "A_edges = {}\n",
    "B_edges = {}\n",
    "C_edges = {}\n",
    "D_edges = {}\n",
    "E_edges = {}\n",
    "F_edges = {}\n",
    "G_edges = {}\n",
    "H_edges = {}\n",
    "\n",
    "hold = [gates, A_edges, B_edges, C_edges, D_edges, E_edges, F_edges, G_edges, H_edges]\n",
    "\n",
    "def sort_edges(edgedict, letter):\n",
    "    for i in edge_vars:\n",
    "        if (i.startswith(letter)):\n",
    "            edgedict[i] = edge_vars[i]\n",
    "    return edgedict\n",
    "\n",
    "def sort_edges_lastletter(edgedict, letter):\n",
    "    for i in edge_vars:\n",
    "        if (i.endswith(letter)):\n",
    "            edgedict[i] = edge_vars[i]\n",
    "    return edgedict\n",
    "    \n",
    "for i in range(0, len(hold)):\n",
    "    if i == 0:\n",
    "        hold[i] = sort_edges(hold[i], nodes[i])\n",
    "    else:\n",
    "        hold[i] = sort_edges_lastletter(hold[i], nodes[i])\n",
    "        \n",
    "        \n",
    "        \n",
    "def addConstraint(edgevars, edges, prob):\n",
    "    prob += lpSum([edgevars[i] for i in edges]) == 1\n",
    "    \n",
    "for i in range(0, len(hold)):\n",
    "    if i != 0:\n",
    "        hold[i] = addConstraint(edge_vars, hold[i], problem)\n",
    "\n",
    "# Prevent loops constraint\n",
    "\n",
    "tempdict = {}\n",
    "for i in edge_vars:\n",
    "    for j in edge_vars:\n",
    "        if j == i[::-1]:\n",
    "            tempdict[i] = edge_vars[i]\n",
    "            tempdict[j] = edge_vars[j]\n",
    "            problem += lpSum([edge_vars[l] for l in tempdict]) <= 1\n",
    "            tempdict.clear()\n",
    "\n",
    "\n",
    "# For the second constraint, we let d be a list of integers with the entries being the demands of each node\n",
    "# Here the nodes are unit weight.\n",
    "d = []\n",
    "for i in range(0, numOfRows-1):\n",
    "    d.append(1)\n",
    "\n",
    "# Now, we want to sum all elements in d and divide that sum by the capacity constraint K. Afterwards, we apply the\n",
    "# the ceiling fn to this expression in order to get the minimum number of subtrees necessary to satisfy the capacity \n",
    "# constraint.\n",
    "minNumSubtrees = math.ceil(sum(d)/K) + 1\n",
    "\n",
    "# the second constraint would be the number of subtrees >= the minimium number of subtrees necessary for K\n",
    "# example: n_s >= min_s_K\n",
    "problem += lpSum([gates[i] for i in gates]) >= minNumSubtrees , \"Subtree Constraint\"\n",
    "\n",
    "\n",
    "\n",
    "print(problem)\n"
   ]
  },
  {
   "cell_type": "code",
   "execution_count": 5,
   "metadata": {},
   "outputs": [
    {
     "name": "stdout",
     "output_type": "stream",
     "text": [
      "Status: Optimal\n",
      "edge_BE = 1.0\n",
      "edge_DH = 1.0\n",
      "edge_FC = 1.0\n",
      "edge_GD = 1.0\n",
      "edge_RA = 1.0\n",
      "edge_RB = 1.0\n",
      "edge_RF = 1.0\n",
      "edge_RG = 1.0\n",
      "Optimal area amount =  41.0\n"
     ]
    }
   ],
   "source": [
    "problem.solve()\n",
    "print(\"Status:\",LpStatus[problem.status])\n",
    "\n",
    "for a in problem.variables():\n",
    "    #print(a.name,\"=\",a.varValue)\n",
    "    if (a.varValue != 0.0):\n",
    "        print(a.name,\"=\",a.varValue)\n",
    "    \n",
    "print(\"Optimal area amount = \",value(problem.objective))"
   ]
  },
  {
   "cell_type": "code",
   "execution_count": 6,
   "metadata": {},
   "outputs": [
    {
     "data": {
      "image/png": "[encoded data removed]",
      "text/plain": [
       "<Figure size 432x288 with 1 Axes>"
      ]
     },
     "metadata": {},
     "output_type": "display_data"
    }
   ],
   "source": [
    "## The proposed solution is written here and graphed.\n",
    "\n",
    "soln_edges = [['B', 'E'],['D', 'H'],['F', 'C'],['G', 'D'],['R', 'A'],['R', 'B'], ['R','F'], ['R','G']]\n",
    "G = nx.Graph()\n",
    "G.add_edges_from(soln_edges)\n",
    "pos = nx.spring_layout(G)\n",
    "plt.figure()\n",
    "nx.draw(\n",
    "    G, pos, edge_color='black', width=1, linewidths=1,\n",
    "    node_size=500, node_color='pink', alpha=0.9,\n",
    "    labels={node: node for node in G.nodes()}\n",
    ")\n",
    "nx.draw_networkx_edge_labels(\n",
    "    G, pos,\n",
    "    edge_labels={('B', 'E'): '3', \n",
    "                 ('D', 'H'): '4', \n",
    "                 ('F', 'C'): '2',\n",
    "                 ('G', 'D'): '10',\n",
    "                 ('R', 'A'): '7',\n",
    "                 ('R', 'B'): '9',\n",
    "                 ('R', 'D'): '5',\n",
    "                 ('R', 'G'): '1'},\n",
    "    font_color='red'\n",
    ")\n",
    "plt.axis('off')\n",
    "plt.show()"
   ]
  },
  {
   "cell_type": "code",
   "execution_count": null,
   "metadata": {},
   "outputs": [],
   "source": []
  }
 ],
 "metadata": {
  "kernelspec": {
   "display_name": "Python 3",
   "language": "python",
   "name": "python3"
  },
  "language_info": {
   "codemirror_mode": {
    "name": "ipython",
    "version": 3
   },
   "file_extension": ".py",
   "mimetype": "text/x-python",
   "name": "python",
   "nbconvert_exporter": "python",
   "pygments_lexer": "ipython3",
   "version": "3.7.6"
  }
 },
 "nbformat": 4,
 "nbformat_minor": 4
}
