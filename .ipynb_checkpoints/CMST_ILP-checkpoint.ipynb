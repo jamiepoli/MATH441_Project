{
 "cells": [
  {
   "cell_type": "code",
   "execution_count": 1,
   "metadata": {
    "scrolled": true
   },
   "outputs": [
    {
     "name": "stdout",
     "output_type": "stream",
     "text": [
      "Requirement already satisfied: pulp in /opt/anaconda3/lib/python3.7/site-packages (2.4)\r\n",
      "Requirement already satisfied: amply>=0.1.2 in /opt/anaconda3/lib/python3.7/site-packages (from pulp) (0.1.4)\r\n",
      "Requirement already satisfied: pyparsing in /opt/anaconda3/lib/python3.7/site-packages (from amply>=0.1.2->pulp) (2.4.6)\r\n",
      "Requirement already satisfied: docutils>=0.3 in /opt/anaconda3/lib/python3.7/site-packages (from amply>=0.1.2->pulp) (0.16)\r\n"
     ]
    }
   ],
   "source": [
    "# Install all required libraries\n",
    "\n",
    "import sys\n",
    "!{sys.executable} -m pip install pulp \n",
    "\n",
    "import pulp\n",
    "# Import PuLP modeler functions\n",
    "from pulp import * \n",
    "\n",
    "import numpy as np\n",
    "import math as math\n",
    "import networkx as nx"
   ]
  },
  {
   "cell_type": "markdown",
   "metadata": {},
   "source": [
    "## The Decision Variables and Objective Function "
   ]
  },
  {
   "cell_type": "code",
   "execution_count": 2,
   "metadata": {},
   "outputs": [],
   "source": [
    "problem = LpProblem(\"CMST_Problem\",LpMinimize)"
   ]
  },
  {
   "cell_type": "code",
   "execution_count": 3,
   "metadata": {},
   "outputs": [],
   "source": [
    "# Graph of edges. The edges are the decision variables\n",
    "edges_weights = np.array([\n",
    " [0,7,9,14,0,15,5,1,0], #root\n",
    " [0,0,16,0,15,0,0,0,0], \n",
    " [0,16,0,0,0,3,0,0,0],\n",
    " [0,0,0,0,0,0,2,11,6],\n",
    " [0,15,0,0,0,0,0,10,4],\n",
    " [0,3,0,0,0,0,8,0,0],\n",
    " [0,0,0,2,0,8,0,0,0],\n",
    " [0,0,0,11,10,0,0,0,0],\n",
    " [0,0,0,6,4,0,0,0,0]\n",
    "])\n",
    "\n",
    "edges = ['RA', 'RB', 'RC', 'RE', 'RF', 'RG', 'AB', 'AD', 'BA', 'BE', 'CF', 'CG', 'CH', 'DA', 'DF', 'DG', 'EA', 'EF', 'FC', 'FE', 'GC', 'GD', 'HC', 'HD']\n",
    "numOfRows = np.size(edges_weights, 0)\n",
    "numOfCols = np.size(edges_weights, 1)\n",
    "\n",
    "# For every entry in edges_weights is a decision variable\n",
    "temp = []\n",
    "for i in range(0,numOfRows):\n",
    "    for j in range(0,numOfCols):\n",
    "        if edges_weights[i][j] != 0:\n",
    "            temp.append(edges_weights[i][j])\n",
    "\n",
    "edge_costs = {}\n",
    "for i in range(0, len(edges)):\n",
    "    edge_costs[edges[i]] = temp[i]\n",
    "\n",
    "edge_vars = LpVariable.dicts(\"edge\",edges,lowBound=0)\n",
    "\n",
    "# Capacity constraint\n",
    "K = 3\n",
    "\n",
    "## OBJECTIVE FUNCTION\n",
    "problem += lpSum([edge_vars[i]*edge_costs[i] for i in edge_costs])\n"
   ]
  },
  {
   "cell_type": "code",
   "execution_count": 4,
   "metadata": {},
   "outputs": [
    {
     "name": "stdout",
     "output_type": "stream",
     "text": [
      "[1, 1, 1, 1, 1, 1, 1, 1]\n",
      "CMST_Problem:\n",
      "MINIMIZE\n",
      "16*edge_AB + 15*edge_AD + 16*edge_BA + 3*edge_BE + 2*edge_CF + 11*edge_CG + 6*edge_CH + 15*edge_DA + 10*edge_DF + 4*edge_DG + 3*edge_EA + 8*edge_EF + 2*edge_FC + 8*edge_FE + 11*edge_GC + 10*edge_GD + 6*edge_HC + 4*edge_HD + 7*edge_RA + 9*edge_RB + 14*edge_RC + 15*edge_RE + 5*edge_RF + 1*edge_RG + 0\n",
      "SUBJECT TO\n",
      "_C1:0 >= -3\n",
      "\n",
      "VARIABLES\n",
      "edge_AB Continuous\n",
      "edge_AD Continuous\n",
      "edge_BA Continuous\n",
      "edge_BE Continuous\n",
      "edge_CF Continuous\n",
      "edge_CG Continuous\n",
      "edge_CH Continuous\n",
      "edge_DA Continuous\n",
      "edge_DF Continuous\n",
      "edge_DG Continuous\n",
      "edge_EA Continuous\n",
      "edge_EF Continuous\n",
      "edge_FC Continuous\n",
      "edge_FE Continuous\n",
      "edge_GC Continuous\n",
      "edge_GD Continuous\n",
      "edge_HC Continuous\n",
      "edge_HD Continuous\n",
      "edge_RA Continuous\n",
      "edge_RB Continuous\n",
      "edge_RC Continuous\n",
      "edge_RE Continuous\n",
      "edge_RF Continuous\n",
      "edge_RG Continuous\n",
      "\n"
     ]
    }
   ],
   "source": [
    "# Given sets V, V+, d, and given adjacency matrix edges and edge weight matrix edges_weights and capacity constraint K\n",
    "\n",
    "\n",
    "# For the set V and V+, we can make it a list of numbers from 0 to n-1 and 1 to n-1, with n being the number of \n",
    "# rows in the adjacency matrix\n",
    "# example: V= [0,1,2,3,4,5,6, ..., n-1] and V+ = [1,2,3,4,5,6, ..., n-1].\n",
    "\n",
    "V = []\n",
    "V_terminal = []\n",
    "\n",
    "for i in range(0, numOfRows):\n",
    "    if i != 0:\n",
    "        V_terminal.append(i)\n",
    "    V.append(i)\n",
    "\n",
    "# For the first constraint, we want the sum of all elements in each column of E, except column 0, to be equal to 1\n",
    "# i.e. the sum of all elements in a column j must equal 1 for all j in V+\n",
    "\n",
    "\n",
    "# For the second constraint, we let d be a list of integers of size |V+|, with the entries being the demands of each node\n",
    "# d = [4,7,2,3,4,9,...]\n",
    "\n",
    "# Here the nodes are unit weight.\n",
    "d = []\n",
    "for i in range(0, numOfRows-1):\n",
    "    d.append(1)\n",
    "print(d)\n",
    "\n",
    "# To get the number of subtrees in the graph, we take the sum of all \"gates\"(edges connecting the root node to another\n",
    "# node). Thus, we would take the sum of all elements in the root node row of the adjacency matrix.\n",
    "# example: if the row for v0 = [0,1,1,0,0,0,1,0,...], we would sum the elements n_s = (0+1+1+0+0+0+1+0+...)\n",
    "\n",
    "gates = []\n",
    "for i in range(0,numOfCols):\n",
    "    if edges_weights[0][i] != 0:\n",
    "        gates.append(1)\n",
    "\n",
    "# Now, we want to sum all elements in d and divide that sum by the capacity constraint K. Afterwards, we apply the\n",
    "# the ceiling fn to this expression in order to get the minimum number of subtrees necessary to satisfy the capacity \n",
    "# constraint.\n",
    "\n",
    "\n",
    "# the second constraint would be the number of subtrees >= the minimium number of subtrees necessary for K\n",
    "# example: n_s >= min_s_K\n",
    "problem += lpSum([gates[i] for i in range(0, len(gates))]) >= math.ceil(sum(d)/K)\n",
    "print(problem)\n"
   ]
  }
 ],
 "metadata": {
  "kernelspec": {
   "display_name": "Python 3",
   "language": "python",
   "name": "python3"
  },
  "language_info": {
   "codemirror_mode": {
    "name": "ipython",
    "version": 3
   },
   "file_extension": ".py",
   "mimetype": "text/x-python",
   "name": "python",
   "nbconvert_exporter": "python",
   "pygments_lexer": "ipython3",
   "version": "3.7.6"
  }
 },
 "nbformat": 4,
 "nbformat_minor": 4
}
